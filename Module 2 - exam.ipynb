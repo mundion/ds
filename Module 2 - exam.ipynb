{
 "cells": [
  {
   "cell_type": "markdown",
   "id": "6b8791ab-4b2a-4822-9394-b326aacd085d",
   "metadata": {},
   "source": [
    "<h1>My Jupyter Notebook on IBM Watson Studio</h1>"
   ]
  },
  {
   "cell_type": "markdown",
   "id": "b20a1833-fe61-4155-aa1e-b270fd4110ea",
   "metadata": {},
   "source": [
    "<b>Thomas Gol&uuml;ke </b>"
   ]
  },
  {
   "cell_type": "markdown",
   "id": "f7238ffb-f3af-4bea-bcbc-59f8b3f8e22f",
   "metadata": {},
   "source": [
    "<i>I am interested in data science because i love to act like an investigator. It is a pleasure to find new insights in world of seemingly unknown variables and deliver them to an astonished audience</i>"
   ]
  },
  {
   "cell_type": "markdown",
   "id": "a3c6773b-a632-4c62-9ad0-402be9e4d741",
   "metadata": {},
   "source": [
    "<h3>In the following, we will calculate the sum of the first n(=20) consecutive, natural square numbers, on one hand directly by calculating the first n square numbers and sum them up and on the other hand by using the formular n(n+1)(2n+1)/6. It can be seen via natural induction that the last formular is indeed correct.</h3>"
   ]
  },
  {
   "cell_type": "code",
   "execution_count": 18,
   "id": "4535c820-e7d1-4b0c-aa80-0c28c6fe140e",
   "metadata": {},
   "outputs": [
    {
     "name": "stdout",
     "output_type": "stream",
     "text": [
      "The sum of the first  20 consecutive, natural square numbers is 2870\n",
      "Thanks to the formular, this is equal to  2870.0\n"
     ]
    }
   ],
   "source": [
    "n = 20\n",
    "sum = 0\n",
    "for i in range(1,n+1):\n",
    "    sum = sum + i*i\n",
    "\n",
    "formular = n*(n+1)*(2*n+1)/6\n",
    "\n",
    "print('The sum of the first ', n, 'consecutive, natural square numbers is', sum)\n",
    "print('Thanks to the formular, this is equal to ', formular)"
   ]
  },
  {
   "cell_type": "markdown",
   "id": "1fde62d8-7d8c-4b34-b400-955eb762ff2e",
   "metadata": {},
   "source": [
    "For the first n between 1 and 5 we have:\n",
    "<ul>\n",
    "  <li>1</li>\n",
    "  <li>5</li>\n",
    "  <li>14</li>\n",
    "  <li>30</li>\n",
    "  <li>55</li>\n",
    "</ul>\n",
    "Moreover, these numbers are known as:\n",
    "<blockquote>Square pyramidal numbers.</blockquote>\n",
    "You can find more information about it on wikipedia via this <a href=\"https://en.wikipedia.org/wiki/Square_pyramidal_number\">link</a>"
   ]
  }
 ],
 "metadata": {
  "kernelspec": {
   "display_name": "Python",
   "language": "python",
   "name": "conda-env-python-py"
  },
  "language_info": {
   "codemirror_mode": {
    "name": "ipython",
    "version": 3
   },
   "file_extension": ".py",
   "mimetype": "text/x-python",
   "name": "python",
   "nbconvert_exporter": "python",
   "pygments_lexer": "ipython3",
   "version": "3.7.12"
  }
 },
 "nbformat": 4,
 "nbformat_minor": 5
}
